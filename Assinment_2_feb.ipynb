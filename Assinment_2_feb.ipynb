{
 "cells": [
  {
   "cell_type": "code",
   "execution_count": 1,
   "id": "46784d7d-61b0-4d9f-816b-debd54599fc6",
   "metadata": {},
   "outputs": [],
   "source": [
    "# 1 ans : - "
   ]
  },
  {
   "cell_type": "code",
   "execution_count": 2,
   "id": "aaaf7f79-3ca5-4a35-ac60-8b8a67a5e0d0",
   "metadata": {},
   "outputs": [
    {
     "name": "stdout",
     "output_type": "stream",
     "text": [
      "0\n",
      "1\n",
      "1\n",
      "2\n",
      "3\n",
      "5\n",
      "8\n",
      "13\n",
      "21\n",
      "34\n"
     ]
    }
   ],
   "source": [
    "# for loop : - \n",
    "# print first 10 fibonacci :-\n",
    "a , b = 0 , 1\n",
    "for i in range(1, 11) :\n",
    "    print(a)\n",
    "    c = a + b\n",
    "    a = b \n",
    "    b = c"
   ]
  },
  {
   "cell_type": "code",
   "execution_count": 3,
   "id": "079fe408-74c9-484f-8af6-ba929430ff6c",
   "metadata": {},
   "outputs": [
    {
     "name": "stdin",
     "output_type": "stream",
     "text": [
      "enter a number to print table 2\n"
     ]
    },
    {
     "name": "stdout",
     "output_type": "stream",
     "text": [
      "2\n",
      "4\n",
      "6\n",
      "8\n",
      "10\n",
      "12\n",
      "14\n",
      "16\n",
      "18\n",
      "20\n"
     ]
    }
   ],
   "source": [
    "# while loop \n",
    "# print table \n",
    "num = int(input(\"enter a number to print table\"))\n",
    "a = 1 \n",
    "while a <= 10 :\n",
    "    print(a * num)\n",
    "    a = a + 1"
   ]
  },
  {
   "cell_type": "code",
   "execution_count": 4,
   "id": "fd99d53f-c096-4c0f-a8c3-400205f2914e",
   "metadata": {},
   "outputs": [],
   "source": [
    "# 2 ans :- "
   ]
  },
  {
   "cell_type": "code",
   "execution_count": 5,
   "id": "66740b1c-7487-4cf2-b813-bcac71ee88a9",
   "metadata": {},
   "outputs": [
    {
     "name": "stdout",
     "output_type": "stream",
     "text": [
      "sum of first 10 natural number =  55\n",
      "product of first 10 natural number =  3628800\n"
     ]
    }
   ],
   "source": [
    "# for loop :-\n",
    "sum = 0 \n",
    "product = 1 \n",
    "for i in range(1, 11) :\n",
    "    sum = sum + i \n",
    "    product = product * i \n",
    "print(\"sum of first 10 natural number = \", sum )\n",
    "print(\"product of first 10 natural number = \" , product)"
   ]
  },
  {
   "cell_type": "code",
   "execution_count": 6,
   "id": "d80bdf21-2d88-4683-9533-32dbb47731ce",
   "metadata": {},
   "outputs": [
    {
     "name": "stdout",
     "output_type": "stream",
     "text": [
      "55\n",
      "3628800\n"
     ]
    }
   ],
   "source": [
    "# while loop :\n",
    "sum = 0 \n",
    "product = 1\n",
    "a = 1\n",
    "while a <= 10 :\n",
    "    sum = sum + a\n",
    "    product = product * a\n",
    "    a = a + 1\n",
    "print(sum)\n",
    "print(product)"
   ]
  },
  {
   "cell_type": "code",
   "execution_count": 7,
   "id": "4dd1c000-362e-4ae7-bc02-a71843d88b5d",
   "metadata": {},
   "outputs": [],
   "source": [
    "# 3 ans :- "
   ]
  },
  {
   "cell_type": "code",
   "execution_count": 9,
   "id": "a92c7c37-c581-4f65-88fc-d7580e251e6f",
   "metadata": {},
   "outputs": [
    {
     "name": "stdin",
     "output_type": "stream",
     "text": [
      "enter your unit -1\n"
     ]
    },
    {
     "name": "stdout",
     "output_type": "stream",
     "text": [
      "invilid Input\n"
     ]
    }
   ],
   "source": [
    "unit = int(input(\"enter your unit\"))\n",
    "if unit > 300 :\n",
    "    a = unit - 300\n",
    "    total = a * 20 + 100 * 10 + 100 * 6 + 100 * 4.5\n",
    "    print(\"YOur total electricity bill is :-\", total)\n",
    "elif unit > 200 :\n",
    "    a = unit - 200\n",
    "    total = a * 10 + 100 * 6 + 100 * 4.5\n",
    "    print(\"YOur total electricity bill is :-\", total)\n",
    "elif unit > 100 :\n",
    "    a = unit - 100 \n",
    "    total = a * 6 + 100 * 4.5\n",
    "    print(\"YOur total electricity bill is :-\", total)\n",
    "elif unit > 0 :\n",
    "    total = unit * 4.5\n",
    "    print(\"YOur total electricity bill is :-\", total)\n",
    "else :\n",
    "    print(\"invilid Input\")"
   ]
  },
  {
   "cell_type": "code",
   "execution_count": 10,
   "id": "b7acb0a0-80db-40ba-a25b-dbbdcd89da03",
   "metadata": {},
   "outputs": [],
   "source": [
    "# 4. ans :- "
   ]
  },
  {
   "cell_type": "code",
   "execution_count": 11,
   "id": "bf3e45b9-0fd3-40db-9740-05a8156321da",
   "metadata": {},
   "outputs": [
    {
     "name": "stdout",
     "output_type": "stream",
     "text": [
      "[8, 64, 125, 216, 512, 1000, 1728, 2744, 3375, 4096, 5832, 8000, 10648, 13824, 15625, 17576, 21952, 27000, 32768, 39304, 42875, 46656, 54872, 64000, 74088, 85184, 91125, 97336, 110592, 125000, 140608, 157464, 166375, 175616, 195112, 216000, 238328, 262144, 274625, 287496, 314432, 343000, 373248, 405224, 421875, 438976, 474552, 512000, 551368, 592704, 614125, 636056, 681472, 729000, 778688, 830584, 857375, 884736, 941192, 1000000]\n"
     ]
    }
   ],
   "source": [
    "# for loop \n",
    "number = list(range(1, 101))\n",
    "cubes_div = []\n",
    "for num in number :\n",
    "    cube = num **3\n",
    "    if cube % 4 == 0 or cube % 5 == 0 :\n",
    "        cubes_div.append(cube)\n",
    "print(cubes_div)"
   ]
  },
  {
   "cell_type": "code",
   "execution_count": 13,
   "id": "63902c46-9d11-413b-8912-68b1a8cb2227",
   "metadata": {},
   "outputs": [
    {
     "name": "stdout",
     "output_type": "stream",
     "text": [
      "[8, 64, 125, 216, 512, 1000, 1728, 2744, 3375, 4096, 5832, 8000, 10648, 13824, 15625, 17576, 21952, 27000, 32768, 39304, 42875, 46656, 54872, 64000, 74088, 85184, 91125, 97336, 110592, 125000, 140608, 157464, 166375, 175616, 195112, 216000, 238328, 262144, 274625, 287496, 314432, 343000, 373248, 405224, 421875, 438976, 474552, 512000, 551368, 592704, 614125, 636056, 681472, 729000, 778688, 830584, 857375, 884736, 941192, 1000000]\n"
     ]
    }
   ],
   "source": [
    "# while loop :\n",
    "cubes = []\n",
    "i = 1\n",
    "while i <= 100 :\n",
    "    cube = i**3\n",
    "    if cube % 4 == 0 or cube % 5 == 0 :\n",
    "        cubes.append(cube)\n",
    "    i = i + 1\n",
    "print(cubes)"
   ]
  },
  {
   "cell_type": "code",
   "execution_count": 14,
   "id": "ddd2f393-e19f-45cb-9e5c-7d035e77c073",
   "metadata": {},
   "outputs": [],
   "source": [
    "# 5.ans :-"
   ]
  },
  {
   "cell_type": "code",
   "execution_count": 15,
   "id": "0598aa05-e177-40d4-af6e-9da710a581f9",
   "metadata": {},
   "outputs": [
    {
     "name": "stdout",
     "output_type": "stream",
     "text": [
      "12\n"
     ]
    }
   ],
   "source": [
    "string = \"I want to become a data scientist\"\n",
    "vowels = \"aeiouAEIOU\"\n",
    "count = 0 \n",
    "for char in string :\n",
    "    if char in vowels :\n",
    "        count = count + 1\n",
    "print(count)"
   ]
  },
  {
   "cell_type": "code",
   "execution_count": null,
   "id": "a127d9ad-a135-449b-8a31-b3774745eafb",
   "metadata": {},
   "outputs": [],
   "source": []
  }
 ],
 "metadata": {
  "kernelspec": {
   "display_name": "Python 3 (ipykernel)",
   "language": "python",
   "name": "python3"
  },
  "language_info": {
   "codemirror_mode": {
    "name": "ipython",
    "version": 3
   },
   "file_extension": ".py",
   "mimetype": "text/x-python",
   "name": "python",
   "nbconvert_exporter": "python",
   "pygments_lexer": "ipython3",
   "version": "3.10.8"
  }
 },
 "nbformat": 4,
 "nbformat_minor": 5
}
